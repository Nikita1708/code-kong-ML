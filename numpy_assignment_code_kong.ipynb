{
  "nbformat": 4,
  "nbformat_minor": 0,
  "metadata": {
    "colab": {
      "name": "numpy_assignment_code_kong.ipynb",
      "provenance": [],
      "include_colab_link": true
    },
    "kernelspec": {
      "name": "python3",
      "display_name": "Python 3"
    },
    "language_info": {
      "name": "python"
    }
  },
  "cells": [
    {
      "cell_type": "markdown",
      "metadata": {
        "id": "view-in-github",
        "colab_type": "text"
      },
      "source": [
        "<a href=\"https://colab.research.google.com/github/Nikita1708/code-kong-ML/blob/main/numpy_assignment_code_kong.ipynb\" target=\"_parent\"><img src=\"https://colab.research.google.com/assets/colab-badge.svg\" alt=\"Open In Colab\"/></a>"
      ]
    },
    {
      "cell_type": "markdown",
      "metadata": {
        "id": "8820A7gq8d73"
      },
      "source": [
        "# Numpy assignment"
      ]
    },
    {
      "cell_type": "markdown",
      "metadata": {
        "id": "GOJm3tt48lev"
      },
      "source": [
        "## 1. Import numpy "
      ]
    },
    {
      "cell_type": "code",
      "metadata": {
        "id": "gy4YwZG58aBS"
      },
      "source": [
        "import numpy as np"
      ],
      "execution_count": 1,
      "outputs": []
    },
    {
      "cell_type": "markdown",
      "metadata": {
        "id": "kXdX6fZE8qyo"
      },
      "source": [
        "## 2. Create an array of 10 zeroes"
      ]
    },
    {
      "cell_type": "code",
      "metadata": {
        "id": "KfpKzoMi8xCh",
        "colab": {
          "base_uri": "https://localhost:8080/"
        },
        "outputId": "dc432eca-0189-478f-dd94-7f78a195d89f"
      },
      "source": [
        "array=np.zeros(10)\n",
        "array"
      ],
      "execution_count": 4,
      "outputs": [
        {
          "output_type": "execute_result",
          "data": {
            "text/plain": [
              "array([0., 0., 0., 0., 0., 0., 0., 0., 0., 0.])"
            ]
          },
          "metadata": {},
          "execution_count": 4
        }
      ]
    },
    {
      "cell_type": "markdown",
      "metadata": {
        "id": "Y99t611H8xqX"
      },
      "source": [
        "## 3. Create an array of 10 ones"
      ]
    },
    {
      "cell_type": "code",
      "metadata": {
        "id": "oTcw5FrZ83Zi",
        "colab": {
          "base_uri": "https://localhost:8080/"
        },
        "outputId": "90346470-696f-4423-cc59-c74b37f96a78"
      },
      "source": [
        "array=np.ones(10)\n",
        "array"
      ],
      "execution_count": 5,
      "outputs": [
        {
          "output_type": "execute_result",
          "data": {
            "text/plain": [
              "array([1., 1., 1., 1., 1., 1., 1., 1., 1., 1.])"
            ]
          },
          "metadata": {},
          "execution_count": 5
        }
      ]
    },
    {
      "cell_type": "markdown",
      "metadata": {
        "id": "h2yw4BMU83yD"
      },
      "source": [
        "## 4. Create an array of 10 fives"
      ]
    },
    {
      "cell_type": "code",
      "metadata": {
        "id": "wo5ZFyof89FS",
        "colab": {
          "base_uri": "https://localhost:8080/"
        },
        "outputId": "89ede738-0668-4724-fc8a-d6d7ebbd5364"
      },
      "source": [
        "array=np.ones(10)*5\n",
        "array"
      ],
      "execution_count": 7,
      "outputs": [
        {
          "output_type": "execute_result",
          "data": {
            "text/plain": [
              "array([5., 5., 5., 5., 5., 5., 5., 5., 5., 5.])"
            ]
          },
          "metadata": {},
          "execution_count": 7
        }
      ]
    },
    {
      "cell_type": "markdown",
      "metadata": {
        "id": "t2VTV6oV89qh"
      },
      "source": [
        "## 5. Create an array of integers from 11 to 50"
      ]
    },
    {
      "cell_type": "code",
      "metadata": {
        "id": "pgqg5u8j9M6X",
        "colab": {
          "base_uri": "https://localhost:8080/"
        },
        "outputId": "5037c620-475b-42da-9576-c7320b56e770"
      },
      "source": [
        "array=np.arange(11,51)\n",
        "array"
      ],
      "execution_count": 9,
      "outputs": [
        {
          "output_type": "execute_result",
          "data": {
            "text/plain": [
              "array([11, 12, 13, 14, 15, 16, 17, 18, 19, 20, 21, 22, 23, 24, 25, 26, 27,\n",
              "       28, 29, 30, 31, 32, 33, 34, 35, 36, 37, 38, 39, 40, 41, 42, 43, 44,\n",
              "       45, 46, 47, 48, 49, 50])"
            ]
          },
          "metadata": {},
          "execution_count": 9
        }
      ]
    },
    {
      "cell_type": "markdown",
      "metadata": {
        "id": "uA44hF0W9NVg"
      },
      "source": [
        "## 6. Create an array of all the even integers from 11 to 50"
      ]
    },
    {
      "cell_type": "code",
      "metadata": {
        "id": "lk5n3Pw_9Wip",
        "colab": {
          "base_uri": "https://localhost:8080/"
        },
        "outputId": "e03b66bd-c011-4320-ad75-554a8b6932e8"
      },
      "source": [
        "array=np.arange(12,51,2)\n",
        "array"
      ],
      "execution_count": 11,
      "outputs": [
        {
          "output_type": "execute_result",
          "data": {
            "text/plain": [
              "array([12, 14, 16, 18, 20, 22, 24, 26, 28, 30, 32, 34, 36, 38, 40, 42, 44,\n",
              "       46, 48, 50])"
            ]
          },
          "metadata": {},
          "execution_count": 11
        }
      ]
    },
    {
      "cell_type": "markdown",
      "metadata": {
        "id": "4qVWaJ199W-R"
      },
      "source": [
        "## 7. Create a 3 * 3 matrices of values from range 0 to 8 "
      ]
    },
    {
      "cell_type": "code",
      "metadata": {
        "id": "rMjavPRT9iwC",
        "colab": {
          "base_uri": "https://localhost:8080/"
        },
        "outputId": "18b35041-5a5e-4bb1-bc63-af36d9b510ba"
      },
      "source": [
        "mat=np.arange(9).reshape(3,3)\n",
        "mat"
      ],
      "execution_count": 13,
      "outputs": [
        {
          "output_type": "execute_result",
          "data": {
            "text/plain": [
              "array([[0, 1, 2],\n",
              "       [3, 4, 5],\n",
              "       [6, 7, 8]])"
            ]
          },
          "metadata": {},
          "execution_count": 13
        }
      ]
    },
    {
      "cell_type": "markdown",
      "metadata": {
        "id": "p_G5GD4x9jRZ"
      },
      "source": [
        "## Use numpy to gentrate a number randomly between 0 and 1"
      ]
    },
    {
      "cell_type": "code",
      "metadata": {
        "id": "F1igDzUc9n8x",
        "colab": {
          "base_uri": "https://localhost:8080/"
        },
        "outputId": "f7f984df-bee5-4bc4-864d-afb22248eb4e"
      },
      "source": [
        "num=np.random.normal(1)\n",
        "num"
      ],
      "execution_count": 25,
      "outputs": [
        {
          "output_type": "execute_result",
          "data": {
            "text/plain": [
              "0.2805852171878348"
            ]
          },
          "metadata": {},
          "execution_count": 25
        }
      ]
    },
    {
      "cell_type": "markdown",
      "metadata": {
        "id": "yz9RkN1m9oXh"
      },
      "source": [
        "## Create the following matrices"
      ]
    },
    {
      "cell_type": "markdown",
      "metadata": {
        "id": "GpBLScoS-Bos"
      },
      "source": [
        "### 20 linrarly spaced points between 0 and 2"
      ]
    },
    {
      "cell_type": "code",
      "metadata": {
        "id": "404Fc4jn97kZ",
        "colab": {
          "base_uri": "https://localhost:8080/"
        },
        "outputId": "9a356020-624a-423a-bb45-5117649080d2"
      },
      "source": [
        "mat=np.linspace(0,2,20)\n",
        "mat"
      ],
      "execution_count": 26,
      "outputs": [
        {
          "output_type": "execute_result",
          "data": {
            "text/plain": [
              "array([0.        , 0.10526316, 0.21052632, 0.31578947, 0.42105263,\n",
              "       0.52631579, 0.63157895, 0.73684211, 0.84210526, 0.94736842,\n",
              "       1.05263158, 1.15789474, 1.26315789, 1.36842105, 1.47368421,\n",
              "       1.57894737, 1.68421053, 1.78947368, 1.89473684, 2.        ])"
            ]
          },
          "metadata": {},
          "execution_count": 26
        }
      ]
    },
    {
      "cell_type": "markdown",
      "metadata": {
        "id": "vv0pclwo-F5L"
      },
      "source": [
        "## Numpy indexing and selection"
      ]
    },
    {
      "cell_type": "code",
      "metadata": {
        "colab": {
          "base_uri": "https://localhost:8080/"
        },
        "id": "5wwSNpSd-SWp",
        "outputId": "ff7dc565-34da-4d58-8f47-8e559a8583ab"
      },
      "source": [
        "mat = np.arange(1,26).reshape(5,5)\n",
        "mat"
      ],
      "execution_count": 40,
      "outputs": [
        {
          "output_type": "execute_result",
          "data": {
            "text/plain": [
              "array([[ 1,  2,  3,  4,  5],\n",
              "       [ 6,  7,  8,  9, 10],\n",
              "       [11, 12, 13, 14, 15],\n",
              "       [16, 17, 18, 19, 20],\n",
              "       [21, 22, 23, 24, 25]])"
            ]
          },
          "metadata": {},
          "execution_count": 40
        }
      ]
    },
    {
      "cell_type": "markdown",
      "metadata": {
        "id": "iTBZNmAR-tFF"
      },
      "source": [
        "Use the above matrices for the following set of questions"
      ]
    },
    {
      "cell_type": "markdown",
      "metadata": {
        "id": "IkLSFN_e-yLp"
      },
      "source": [
        "### 1. only first value of matrice mat"
      ]
    },
    {
      "cell_type": "code",
      "metadata": {
        "id": "Tf3nZ2lH-m_O",
        "colab": {
          "base_uri": "https://localhost:8080/"
        },
        "outputId": "9063ffb9-09c7-4c8e-adf3-b6d8a9e18690"
      },
      "source": [
        "mat[0][0]"
      ],
      "execution_count": 23,
      "outputs": [
        {
          "output_type": "execute_result",
          "data": {
            "text/plain": [
              "1"
            ]
          },
          "metadata": {},
          "execution_count": 23
        }
      ]
    },
    {
      "cell_type": "markdown",
      "metadata": {
        "id": "zXlls_1O-36q"
      },
      "source": [
        "### 2. middle value of matrice mat"
      ]
    },
    {
      "cell_type": "code",
      "metadata": {
        "id": "DarfuwIA-9qv",
        "colab": {
          "base_uri": "https://localhost:8080/"
        },
        "outputId": "e9c34671-f5d2-4865-f714-adde74489347"
      },
      "source": [
        "mat[2,2]"
      ],
      "execution_count": 43,
      "outputs": [
        {
          "output_type": "execute_result",
          "data": {
            "text/plain": [
              "13"
            ]
          },
          "metadata": {},
          "execution_count": 43
        }
      ]
    },
    {
      "cell_type": "markdown",
      "metadata": {
        "id": "yHFI_eL_--OQ"
      },
      "source": [
        "### 3. first two rows and last one column values of matrice mat"
      ]
    },
    {
      "cell_type": "code",
      "metadata": {
        "id": "bfM_HR1g_DyB",
        "colab": {
          "base_uri": "https://localhost:8080/"
        },
        "outputId": "a770c6f7-916e-4789-db97-653d9eed23c2"
      },
      "source": [
        "mat[:2]"
      ],
      "execution_count": 57,
      "outputs": [
        {
          "output_type": "execute_result",
          "data": {
            "text/plain": [
              "array([[ 1,  2,  3,  4,  5],\n",
              "       [ 6,  7,  8,  9, 10]])"
            ]
          },
          "metadata": {},
          "execution_count": 57
        }
      ]
    },
    {
      "cell_type": "markdown",
      "metadata": {
        "id": "rALMjOR__EMv"
      },
      "source": [
        "### 4. last row and all column values of matrice mat"
      ]
    },
    {
      "cell_type": "code",
      "metadata": {
        "id": "ZBrYW6Sg_QKH",
        "colab": {
          "base_uri": "https://localhost:8080/"
        },
        "outputId": "f90baf66-52fe-445c-c470-71a3cdba8776"
      },
      "source": [
        "mat[4:]"
      ],
      "execution_count": 58,
      "outputs": [
        {
          "output_type": "execute_result",
          "data": {
            "text/plain": [
              "array([[21, 22, 23, 24, 25]])"
            ]
          },
          "metadata": {},
          "execution_count": 58
        }
      ]
    }
  ]
}